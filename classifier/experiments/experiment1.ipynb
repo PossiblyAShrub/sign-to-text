{
 "cells": [
  {
   "cell_type": "code",
   "execution_count": 1,
   "id": "30b08a99-cdd2-440b-9738-4ff444623e4b",
   "metadata": {},
   "outputs": [],
   "source": [
    "import sys\n",
    "sys.path.append(\"src\")"
   ]
  },
  {
   "cell_type": "code",
   "execution_count": 2,
   "id": "b7c0ccd7-4dcf-40e1-8c9a-456bfe83cd38",
   "metadata": {},
   "outputs": [],
   "source": [
    "from dataloader import AslDataset\n",
    "from torch.utils.data import DataLoader, RandomSampler\n",
    "\n",
    "dataset = AslDataset(\"data/asl_alphabet_train/asl_alphabet_train\")\n",
    "loader = DataLoader(dataset, sampler=RandomSampler(dataset, num_samples=100))"
   ]
  },
  {
   "cell_type": "code",
   "execution_count": 3,
   "id": "30624656-1493-4964-8ebb-7bb5b0ca435a",
   "metadata": {},
   "outputs": [
    {
     "name": "stdout",
     "output_type": "stream",
     "text": [
      "H tensor([[  0,   0, 252],\n",
      "        [  3,   2, 254],\n",
      "        [  2,   0, 246],\n",
      "        ...,\n",
      "        [ 16,  10, 146],\n",
      "        [  9,  11, 171],\n",
      "        [  5,  11, 183]])\n",
      "H tensor([[[  0,   0, 252],\n",
      "         [  3,   2, 254],\n",
      "         [  2,   0, 246],\n",
      "         ...,\n",
      "         [ 16,  10, 146],\n",
      "         [  9,  11, 171],\n",
      "         [  5,  11, 183]]])\n"
     ]
    }
   ],
   "source": [
    "for item in loader:\n",
    "    label = item[\"label\"][0]\n",
    "    image = item[\"image\"]\n",
    "\n",
    "    print(label, image)\n",
    "    break"
   ]
  }
 ],
 "metadata": {
  "kernelspec": {
   "display_name": "Python 3 (ipykernel)",
   "language": "python",
   "name": "python3"
  },
  "language_info": {
   "codemirror_mode": {
    "name": "ipython",
    "version": 3
   },
   "file_extension": ".py",
   "mimetype": "text/x-python",
   "name": "python",
   "nbconvert_exporter": "python",
   "pygments_lexer": "ipython3",
   "version": "3.11.5"
  }
 },
 "nbformat": 4,
 "nbformat_minor": 5
}
